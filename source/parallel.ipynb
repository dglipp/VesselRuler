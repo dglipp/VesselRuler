{
 "cells": [
  {
   "cell_type": "code",
   "execution_count": 17,
   "source": [
    "import multiprocessing as mp\n",
    "import numpy as np\n",
    "import time\n",
    "\n",
    "def square(idx, x, queue):\n",
    "    time.sleep(idx % 2 * 3)\n",
    "    queue.put((idx, x * x))\n",
    "\n",
    "def func(queue, n_jobs):\n",
    "    i = 0\n",
    "    while(i < n_jobs):\n",
    "        el = queue.get()\n",
    "        print(el)\n",
    "        i += 1\n",
    "\n",
    "def main():\n",
    "    data = [2, 4, 6, 3, 5, 8, 9, 7]\n",
    "    queue = mp.Queue()\n",
    "    processes = [mp.Process(target=square, args=(idx, val, queue))\n",
    "                 for idx, val in enumerate(data)]\n",
    "\n",
    "    catcher = mp.Process(target=func, args = (queue,len(data)))\n",
    "\n",
    "    for p in processes:\n",
    "        p.start()\n",
    "\n",
    "    catcher.start()\n",
    "    catcher.join()\n",
    "    for p in processes:\n",
    "        p.join()\n",
    "\n",
    "main()\n",
    "\n"
   ],
   "outputs": [
    {
     "output_type": "stream",
     "name": "stdout",
     "text": [
      "(0, 4)\n",
      "(2, 36)\n",
      "(4, 25)\n",
      "(6, 81)\n",
      "(1, 16)\n",
      "(3, 9)\n",
      "(5, 64)\n",
      "(7, 49)\n"
     ]
    }
   ],
   "metadata": {}
  },
  {
   "cell_type": "code",
   "execution_count": 22,
   "source": [
    "pool = mp.Pool(processes=4)\n",
    "def square(tup):\n",
    "    idx, x = tup\n",
    "    time.sleep(idx % 2 * 3)\n",
    "    return idx, x ** 2\n",
    "\n",
    "iter = pool.imap_unordered(square, [(i, x) for i, x in enumerate(range(10))])\n",
    "for i in range(10):\n",
    "    idx, xsquare = iter.next()\n",
    "    print(idx, xsquare)"
   ],
   "outputs": [
    {
     "output_type": "stream",
     "name": "stdout",
     "text": [
      "0 0\n",
      "4 16\n",
      "2 4\n",
      "6 36\n",
      "7 49\n",
      "5 25\n",
      "8 64\n",
      "1 1\n",
      "3 9\n",
      "9 81\n"
     ]
    }
   ],
   "metadata": {}
  },
  {
   "cell_type": "code",
   "execution_count": null,
   "source": [],
   "outputs": [],
   "metadata": {}
  }
 ],
 "metadata": {
  "orig_nbformat": 4,
  "language_info": {
   "name": "python",
   "version": "3.7.9",
   "mimetype": "text/x-python",
   "codemirror_mode": {
    "name": "ipython",
    "version": 3
   },
   "pygments_lexer": "ipython3",
   "nbconvert_exporter": "python",
   "file_extension": ".py"
  },
  "kernelspec": {
   "name": "python3",
   "display_name": "Python 3.7.9 64-bit ('base': conda)"
  },
  "interpreter": {
   "hash": "4ead660c68495e0e0661f61a903a49977242afcafb03237dba9c003195536dbd"
  }
 },
 "nbformat": 4,
 "nbformat_minor": 2
}